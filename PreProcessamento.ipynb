{
  "cells": [
    {
      "cell_type": "markdown",
      "metadata": {
        "id": "3TCbwd_I6Ngx"
      },
      "source": [
        "# Tratamento de dados\n",
        "\n",
        "## Base de nascidos vivos do DataSUS\n",
        "O DataSUS disponibiliza diversos arquivos de dados com relação a seus segurados, conforme a [lei da transparência de informações públicas](https://www.sisgov.com/transparencia-acesso-informacao/#:~:text=A%20Lei%20da%20Transpar%C3%AAncia%20(LC,em%20um%20site%20na%20internet.).\n",
        "\n",
        "Essas informações podem ser obtidas pela internet [aqui](http://www2.datasus.gov.br/DATASUS/index.php?area=0901&item=1). Como o processo de obtenção desses arquivos foge um pouco do nosso escopo, deixamos o arquivo ```SINASC_RO_2019.csv``` já como vai ser encontrado no DataSUS. O dicionário de dados está no arquivo ```estrutura_sinasc_para_CD.pdf``` (o nome do arquivo tal qual no portal do DataSUS).\n",
        "\n",
        "### objetivo\n",
        "Deixar uma base organizada para poder estudar a relação entre partos com risco para o bebê e algumas condições como tempo de parto, consultas de pré-natal etc.\n",
        "\n"
      ]
    },
    {
      "cell_type": "markdown",
      "metadata": {
        "id": "TYKZjids6NhL"
      },
      "source": [
        "## Vamos analisar as colunas 'ESCMAE', 'GESTACAO' e 'GRAVIDEZ', para revisar seus dados faltantes."
      ]
    },
    {
      "cell_type": "markdown",
      "metadata": {
        "id": "9UFahgBy6NhM"
      },
      "source": [
        "No caso da escolaridade da mãe, os valores faltantes podem ser considerados como uma nova categoria de 'sem informação', então não serão tratados de outra forma."
      ]
    },
    {
      "cell_type": "markdown",
      "metadata": {
        "id": "thdhz04I6NhO"
      },
      "source": [
        "No caso do atributo de tempo de gestação e no tipo de gravidez, os valores faltantes realmente são um buraco nos dados pois têm muito valor para a análise, assim, tais linhas serão excluidas."
      ]
    },
    {
      "cell_type": "markdown",
      "metadata": {
        "id": "WhZD9dET6NhP"
      },
      "source": [
        "- Entre 8 e 10 está em uma faixa 'normal'.\n",
        "- Entre 6 e 7, significa que o recém-nascido passou por 'asfixia leve'.\n",
        "- Entre 4 e 5 significa 'asfixia moderada'.\n",
        "- Entre 0 e 3 significa 'asfixia severa'."
      ]
    },
    {
      "cell_type": "code",
      "execution_count": 28,
      "metadata": {
        "colab": {
          "base_uri": "https://localhost:8080/"
        },
        "id": "ljQzalLnXJGO",
        "outputId": "ade56642-589a-4745-9b47-c2d81a1ff811"
      },
      "outputs": [
        {
          "name": "stdout",
          "output_type": "stream",
          "text": [
            "Requirement already satisfied: pandas in /usr/local/lib/python3.10/dist-packages (2.0.3)\n",
            "Requirement already satisfied: python-dateutil>=2.8.2 in /usr/local/lib/python3.10/dist-packages (from pandas) (2.8.2)\n",
            "Requirement already satisfied: pytz>=2020.1 in /usr/local/lib/python3.10/dist-packages (from pandas) (2023.4)\n",
            "Requirement already satisfied: tzdata>=2022.1 in /usr/local/lib/python3.10/dist-packages (from pandas) (2024.1)\n",
            "Requirement already satisfied: numpy>=1.21.0 in /usr/local/lib/python3.10/dist-packages (from pandas) (1.25.2)\n",
            "Requirement already satisfied: six>=1.5 in /usr/local/lib/python3.10/dist-packages (from python-dateutil>=2.8.2->pandas) (1.16.0)\n",
            "Collecting pandasql\n",
            "  Downloading pandasql-0.7.3.tar.gz (26 kB)\n",
            "  Preparing metadata (setup.py) ... \u001b[?25l\u001b[?25hdone\n",
            "Requirement already satisfied: numpy in /usr/local/lib/python3.10/dist-packages (from pandasql) (1.25.2)\n",
            "Requirement already satisfied: pandas in /usr/local/lib/python3.10/dist-packages (from pandasql) (2.0.3)\n",
            "Requirement already satisfied: sqlalchemy in /usr/local/lib/python3.10/dist-packages (from pandasql) (2.0.29)\n",
            "Requirement already satisfied: python-dateutil>=2.8.2 in /usr/local/lib/python3.10/dist-packages (from pandas->pandasql) (2.8.2)\n",
            "Requirement already satisfied: pytz>=2020.1 in /usr/local/lib/python3.10/dist-packages (from pandas->pandasql) (2023.4)\n",
            "Requirement already satisfied: tzdata>=2022.1 in /usr/local/lib/python3.10/dist-packages (from pandas->pandasql) (2024.1)\n",
            "Requirement already satisfied: typing-extensions>=4.6.0 in /usr/local/lib/python3.10/dist-packages (from sqlalchemy->pandasql) (4.11.0)\n",
            "Requirement already satisfied: greenlet!=0.4.17 in /usr/local/lib/python3.10/dist-packages (from sqlalchemy->pandasql) (3.0.3)\n",
            "Requirement already satisfied: six>=1.5 in /usr/local/lib/python3.10/dist-packages (from python-dateutil>=2.8.2->pandas->pandasql) (1.16.0)\n",
            "Building wheels for collected packages: pandasql\n",
            "  Building wheel for pandasql (setup.py) ... \u001b[?25l\u001b[?25hdone\n",
            "  Created wheel for pandasql: filename=pandasql-0.7.3-py3-none-any.whl size=26771 sha256=705b3a300fcf640fab1a1ee7965e8036e17f41ef650343012d48be8dc729f380\n",
            "  Stored in directory: /root/.cache/pip/wheels/e9/bc/3a/8434bdcccf5779e72894a9b24fecbdcaf97940607eaf4bcdf9\n",
            "Successfully built pandasql\n",
            "Installing collected packages: pandasql\n",
            "Successfully installed pandasql-0.7.3\n",
            "Collecting sqlalchemy<2.0\n",
            "  Downloading SQLAlchemy-1.4.52-cp310-cp310-manylinux_2_5_x86_64.manylinux1_x86_64.manylinux_2_17_x86_64.manylinux2014_x86_64.whl (1.6 MB)\n",
            "\u001b[2K     \u001b[90m━━━━━━━━━━━━━━━━━━━━━━━━━━━━━━━━━━━━━━━━\u001b[0m \u001b[32m1.6/1.6 MB\u001b[0m \u001b[31m8.5 MB/s\u001b[0m eta \u001b[36m0:00:00\u001b[0m\n",
            "\u001b[?25hRequirement already satisfied: greenlet!=0.4.17 in /usr/local/lib/python3.10/dist-packages (from sqlalchemy<2.0) (3.0.3)\n",
            "Installing collected packages: sqlalchemy\n",
            "  Attempting uninstall: sqlalchemy\n",
            "    Found existing installation: SQLAlchemy 2.0.29\n",
            "    Uninstalling SQLAlchemy-2.0.29:\n",
            "      Successfully uninstalled SQLAlchemy-2.0.29\n",
            "\u001b[31mERROR: pip's dependency resolver does not currently take into account all the packages that are installed. This behaviour is the source of the following dependency conflicts.\n",
            "ipython-sql 0.5.0 requires sqlalchemy>=2.0, but you have sqlalchemy 1.4.52 which is incompatible.\u001b[0m\u001b[31m\n",
            "\u001b[0mSuccessfully installed sqlalchemy-1.4.52\n"
          ]
        },
        {
          "data": {
            "text/plain": [
              "Index(['ORIGEM', 'CODESTAB', 'CODMUNNASC', 'LOCNASC', 'IDADEMAE', 'ESTCIVMAE',\n",
              "       'ESCMAE', 'CODOCUPMAE', 'QTDFILVIVO', 'QTDFILMORT', 'CODMUNRES',\n",
              "       'GESTACAO', 'GRAVIDEZ', 'PARTO', 'CONSULTAS', 'DTNASC', 'HORANASC',\n",
              "       'SEXO', 'APGAR1', 'APGAR5', 'RACACOR', 'PESO', 'IDANOMAL', 'DTCADASTRO',\n",
              "       'CODANOMAL', 'NUMEROLOTE', 'VERSAOSIST', 'DTRECEBIM', 'DIFDATA',\n",
              "       'DTRECORIGA', 'NATURALMAE', 'CODMUNNATU', 'CODUFNATU', 'ESCMAE2010',\n",
              "       'SERIESCMAE', 'DTNASCMAE', 'RACACORMAE', 'QTDGESTANT', 'QTDPARTNOR',\n",
              "       'QTDPARTCES', 'IDADEPAI', 'DTULTMENST', 'SEMAGESTAC', 'TPMETESTIM',\n",
              "       'CONSPRENAT', 'MESPRENAT', 'TPAPRESENT', 'STTRABPART', 'STCESPARTO',\n",
              "       'TPNASCASSI', 'TPFUNCRESP', 'TPDOCRESP', 'DTDECLARAC', 'ESCMAEAGR1',\n",
              "       'STDNEPIDEM', 'STDNNOVA', 'CODPAISRES', 'TPROBSON', 'PARIDADE',\n",
              "       'KOTELCHUCK', 'CONTADOR', 'munResStatus', 'munResTipo', 'munResNome',\n",
              "       'munResUf', 'munResLat', 'munResLon', 'munResAlt', 'munResArea'],\n",
              "      dtype='object')"
            ]
          },
          "execution_count": 28,
          "metadata": {},
          "output_type": "execute_result"
        }
      ],
      "source": [
        "%pip install pandas\n",
        "%pip install pandasql\n",
        "%pip install --upgrade 'sqlalchemy<2.0'\n",
        "import pandas as pd\n",
        "import numpy as np\n",
        "from pandasql import sqldf\n",
        "df = pd.read_csv('SINASC_RO_2019.csv')\n",
        "df.columns"
      ]
    },
    {
      "cell_type": "markdown",
      "metadata": {},
      "source": [
        "## Contando o número de registros e o número de registros não duplicados da base."
      ]
    },
    {
      "cell_type": "code",
      "execution_count": 4,
      "metadata": {
        "colab": {
          "base_uri": "https://localhost:8080/"
        },
        "id": "5vlx5XL9XLRA",
        "outputId": "8cae623e-9027-4b00-b39f-69606a468e50"
      },
      "outputs": [
        {
          "name": "stdout",
          "output_type": "stream",
          "text": [
            "Número total de registros: 27028\n",
            "Número de registros não duplicados: 27028\n",
            "Há linhas duplicadas na base de dados: False\n"
          ]
        }
      ],
      "source": [
        "total_registros = len(df)\n",
        "df_sem_duplicados = df.drop_duplicates()\n",
        "registros_nao_duplicados = len(df_sem_duplicados)\n",
        "ha_duplicados = total_registros != registros_nao_duplicados\n",
        "print(\"Número total de registros:\", total_registros)\n",
        "print(\"Número de registros não duplicados:\", registros_nao_duplicados)\n",
        "print(\"Há linhas duplicadas na base de dados:\", ha_duplicados)\n"
      ]
    },
    {
      "cell_type": "markdown",
      "metadata": {
        "id": "K7A0xYi3Zj7p"
      },
      "source": [
        "## Contando o número de valores missing por variável."
      ]
    },
    {
      "cell_type": "code",
      "execution_count": 5,
      "metadata": {
        "colab": {
          "base_uri": "https://localhost:8080/"
        },
        "id": "ifO2-_EoZVR6",
        "outputId": "2afa8547-d9a8-496a-9e36-59c37df140a1"
      },
      "outputs": [
        {
          "name": "stdout",
          "output_type": "stream",
          "text": [
            "Valores ausentes por variável:\n",
            "ORIGEM          0\n",
            "CODESTAB      115\n",
            "CODMUNNASC      0\n",
            "LOCNASC         0\n",
            "IDADEMAE        0\n",
            "             ... \n",
            "munResUf        0\n",
            "munResLat       1\n",
            "munResLon       1\n",
            "munResAlt       1\n",
            "munResArea      1\n",
            "Length: 69, dtype: int64\n"
          ]
        }
      ],
      "source": [
        "valores_ausentes_por_variavel = df.isna().sum()\n",
        "print(\"Valores ausentes por variável:\")\n",
        "print(valores_ausentes_por_variavel)"
      ]
    },
    {
      "cell_type": "markdown",
      "metadata": {
        "id": "NA09cw0EaidG"
      },
      "source": [
        "## Criando uma seleção dessa base somente com as colunas que interessam."
      ]
    },
    {
      "cell_type": "code",
      "execution_count": 7,
      "metadata": {
        "colab": {
          "base_uri": "https://localhost:8080/"
        },
        "id": "c0ehDaDYZZvg",
        "outputId": "1cb4a31d-12e1-4da0-e62d-9771a5d248e6"
      },
      "outputs": [
        {
          "name": "stdout",
          "output_type": "stream",
          "text": [
            "   LOCNASC  IDADEMAE  ESTCIVMAE           ESCMAE  QTDFILVIVO         GESTACAO  \\\n",
            "0        1        19        5.0      8 a 11 anos         0.0  37 a 41 semanas   \n",
            "1        1        29        2.0      8 a 11 anos         1.0  37 a 41 semanas   \n",
            "2        1        37        9.0      8 a 11 anos         2.0  37 a 41 semanas   \n",
            "3        1        30        5.0  12 anos ou mais         0.0  37 a 41 semanas   \n",
            "4        1        30        2.0      8 a 11 anos         1.0  37 a 41 semanas   \n",
            "\n",
            "  GRAVIDEZ  CONSULTAS  APGAR5  \n",
            "0    Única          4    10.0  \n",
            "1    Única          4     9.0  \n",
            "2    Única          4    10.0  \n",
            "3    Única          3    10.0  \n",
            "4    Única          4    10.0  \n"
          ]
        }
      ],
      "source": [
        "colunas_de_interesse = ['LOCNASC', 'IDADEMAE', 'ESTCIVMAE', 'ESCMAE', 'QTDFILVIVO', 'GESTACAO', 'GRAVIDEZ', 'CONSULTAS', 'APGAR5']\n",
        "df_selecionado = df.loc[:, colunas_de_interesse]\n",
        "print(df_selecionado.head())"
      ]
    },
    {
      "cell_type": "markdown",
      "metadata": {
        "id": "sh0Y1roacTCN"
      },
      "source": [
        "## Contando novamente o número de linhas e o número de missings"
      ]
    },
    {
      "cell_type": "code",
      "execution_count": 20,
      "metadata": {
        "colab": {
          "base_uri": "https://localhost:8080/"
        },
        "id": "hNb6piN7avCL",
        "outputId": "a1170730-a980-48b3-e2eb-6f6b30b0f99e"
      },
      "outputs": [
        {
          "name": "stdout",
          "output_type": "stream",
          "text": [
            "Número de linhas após a remoção de registros com APGAR5 não preenchido: 26925\n",
            "Número de valores ausentes na coluna 'APGAR5' após a remoção dos registros: 0\n"
          ]
        }
      ],
      "source": [
        "df_sem_missing_apgar5 = df_selecionado.dropna(subset=['APGAR5'])\n",
        "num_registros_apgar5 = len(df_sem_missing_apgar5)\n",
        "num_missing_apgar5 = df_sem_missing_apgar5['APGAR5'].isna().sum()\n",
        "print(\"Número de linhas após a remoção de registros com APGAR5 não preenchido:\", num_registros_apgar5)\n",
        "print(\"Número de valores ausentes na coluna 'APGAR5' após a remoção dos registros:\", num_missing_apgar5)"
      ]
    },
    {
      "cell_type": "markdown",
      "metadata": {
        "id": "cKxZyi5XgG8_"
      },
      "source": [
        "## Nas colunas 'ESTCIVMAE' e 'CONSULTAS', irei substituir o 9 por Not a Number do Pandas"
      ]
    },
    {
      "cell_type": "code",
      "execution_count": 25,
      "metadata": {
        "colab": {
          "base_uri": "https://localhost:8080/"
        },
        "id": "c77omTTda0Na",
        "outputId": "e824386b-d450-435e-9384-fbb958c3d08c"
      },
      "outputs": [
        {
          "data": {
            "text/plain": [
              "0        4\n",
              "1        4\n",
              "2        4\n",
              "3        3\n",
              "4        4\n",
              "        ..\n",
              "27023    4\n",
              "27024    4\n",
              "27025    4\n",
              "27026    4\n",
              "27027    4\n",
              "Name: CONSULTAS, Length: 27028, dtype: object"
            ]
          },
          "execution_count": 25,
          "metadata": {},
          "output_type": "execute_result"
        }
      ],
      "source": [
        "df['ESTCIVMAE'].replace(9, pd.NA)\n",
        "df['CONSULTAS'].replace(9, pd.NA)\n"
      ]
    },
    {
      "cell_type": "markdown",
      "metadata": {
        "id": "v0uQQI_OiWvm"
      },
      "source": [
        "## Substituindo os valores faltantes da quantitativa (QTDFILVIVO) por zero.\n"
      ]
    },
    {
      "cell_type": "code",
      "execution_count": 27,
      "metadata": {
        "colab": {
          "base_uri": "https://localhost:8080/"
        },
        "id": "vghdTpZGiFAF",
        "outputId": "1d685421-5a9e-44c5-b08e-c5dbca7b33a1"
      },
      "outputs": [
        {
          "name": "stdout",
          "output_type": "stream",
          "text": [
            "0\n",
            "   ORIGEM   CODESTAB  CODMUNNASC  LOCNASC  IDADEMAE ESTCIVMAE  \\\n",
            "0       1  2679477.0      110001        1        19       5.0   \n",
            "1       1  2679477.0      110001        1        29       2.0   \n",
            "2       1  2679477.0      110001        1        37      <NA>   \n",
            "3       1  2516500.0      110001        1        30       5.0   \n",
            "4       1  2516500.0      110001        1        30       2.0   \n",
            "\n",
            "            ESCMAE  CODOCUPMAE  QTDFILVIVO  QTDFILMORT  ...  KOTELCHUCK  \\\n",
            "0      8 a 11 anos         NaN         0.0         0.0  ...           5   \n",
            "1      8 a 11 anos    999992.0         1.0         0.0  ...           5   \n",
            "2      8 a 11 anos    513205.0         2.0         0.0  ...           5   \n",
            "3  12 anos ou mais    231205.0         0.0         0.0  ...           4   \n",
            "4      8 a 11 anos    999992.0         1.0         0.0  ...           5   \n",
            "\n",
            "  CONTADOR munResStatus munResTipo               munResNome  munResUf  \\\n",
            "0        1        ATIVO      MUNIC    Alta Floresta D'Oeste  Rondônia   \n",
            "1        2        ATIVO      MUNIC    Alta Floresta D'Oeste  Rondônia   \n",
            "2        3        ATIVO      MUNIC    Alta Floresta D'Oeste  Rondônia   \n",
            "3        4        ATIVO      MUNIC  Alto Alegre dos Parecis  Rondônia   \n",
            "4        5        ATIVO      MUNIC    Alta Floresta D'Oeste  Rondônia   \n",
            "\n",
            "   munResLat munResLon  munResAlt  munResArea  \n",
            "0  -11.93554 -61.99982      338.0    7067.025  \n",
            "1  -11.93554 -61.99982      338.0    7067.025  \n",
            "2  -11.93554 -61.99982      338.0    7067.025  \n",
            "3  -12.13178 -61.85308      397.0    3958.273  \n",
            "4  -11.93554 -61.99982      338.0    7067.025  \n",
            "\n",
            "[5 rows x 69 columns]\n"
          ]
        }
      ],
      "source": [
        "df['QTDFILVIVO'].fillna(0)\n",
        "print(df['QTDFILVIVO'].isna().sum())\n",
        "print(df.head())"
      ]
    },
    {
      "cell_type": "markdown",
      "metadata": {
        "id": "a5CwB35bjwGM"
      },
      "source": [
        "## Substituindo valores NaN ou faltantes pela string 'ausente'\n"
      ]
    },
    {
      "cell_type": "markdown",
      "metadata": {
        "id": "M-FJqGgtkhX0"
      },
      "source": [
        "Vou substituir os valores faltantes por \"ausente\" (string), a fim de manter certa integridade dos dados. Optamos por substituir po rum alabel apenas para representar o dado no formato object (string), e para nao termos problemas com calculos, ja que NaN pode assumir o valor de float.\n"
      ]
    },
    {
      "cell_type": "code",
      "execution_count": 33,
      "metadata": {
        "colab": {
          "base_uri": "https://localhost:8080/"
        },
        "id": "bYf0E_5tj0pu",
        "outputId": "019bdd53-5eef-45c5-f907-129b4d20780f"
      },
      "outputs": [
        {
          "name": "stdout",
          "output_type": "stream",
          "text": [
            "ORIGEM        0\n",
            "CODESTAB      0\n",
            "CODMUNNASC    0\n",
            "LOCNASC       0\n",
            "IDADEMAE      0\n",
            "             ..\n",
            "munResUf      0\n",
            "munResLat     0\n",
            "munResLon     0\n",
            "munResAlt     0\n",
            "munResArea    0\n",
            "Length: 69, dtype: int64\n"
          ]
        }
      ],
      "source": [
        "df.fillna('ausente', inplace=True)\n",
        "print(df.isna().sum())"
      ]
    },
    {
      "cell_type": "markdown",
      "metadata": {
        "id": "6kKfbL01i-Ck"
      },
      "source": [
        "## Criando uma categorização da variável 'apgar' com essa codificação e calcule as frequências dessa categorização"
      ]
    },
    {
      "cell_type": "code",
      "execution_count": 29,
      "metadata": {
        "colab": {
          "base_uri": "https://localhost:8080/",
          "height": 81
        },
        "id": "ydKV0c_Aiukm",
        "outputId": "6ea5b698-7c63-426b-deac-42da93f9e1dc"
      },
      "outputs": [
        {
          "data": {
            "application/vnd.google.colaboratory.intrinsic+json": {
              "summary": "{\n  \"name\": \"notas\",\n  \"rows\": 1,\n  \"fields\": [\n    {\n      \"column\": \"normal_apgar1\",\n      \"properties\": {\n        \"dtype\": \"number\",\n        \"std\": null,\n        \"min\": 23802,\n        \"max\": 23802,\n        \"num_unique_values\": 1,\n        \"samples\": [\n          23802\n        ],\n        \"semantic_type\": \"\",\n        \"description\": \"\"\n      }\n    },\n    {\n      \"column\": \"leve_apgar1\",\n      \"properties\": {\n        \"dtype\": \"number\",\n        \"std\": null,\n        \"min\": 2523,\n        \"max\": 2523,\n        \"num_unique_values\": 1,\n        \"samples\": [\n          2523\n        ],\n        \"semantic_type\": \"\",\n        \"description\": \"\"\n      }\n    },\n    {\n      \"column\": \"moderado_apgar1\",\n      \"properties\": {\n        \"dtype\": \"number\",\n        \"std\": null,\n        \"min\": 376,\n        \"max\": 376,\n        \"num_unique_values\": 1,\n        \"samples\": [\n          376\n        ],\n        \"semantic_type\": \"\",\n        \"description\": \"\"\n      }\n    },\n    {\n      \"column\": \"severo_apgar1\",\n      \"properties\": {\n        \"dtype\": \"number\",\n        \"std\": null,\n        \"min\": 231,\n        \"max\": 231,\n        \"num_unique_values\": 1,\n        \"samples\": [\n          231\n        ],\n        \"semantic_type\": \"\",\n        \"description\": \"\"\n      }\n    },\n    {\n      \"column\": \"normal_apgar5\",\n      \"properties\": {\n        \"dtype\": \"number\",\n        \"std\": null,\n        \"min\": 26463,\n        \"max\": 26463,\n        \"num_unique_values\": 1,\n        \"samples\": [\n          26463\n        ],\n        \"semantic_type\": \"\",\n        \"description\": \"\"\n      }\n    },\n    {\n      \"column\": \"leve_apgar5\",\n      \"properties\": {\n        \"dtype\": \"number\",\n        \"std\": null,\n        \"min\": 320,\n        \"max\": 320,\n        \"num_unique_values\": 1,\n        \"samples\": [\n          320\n        ],\n        \"semantic_type\": \"\",\n        \"description\": \"\"\n      }\n    },\n    {\n      \"column\": \"moderado_apgar5\",\n      \"properties\": {\n        \"dtype\": \"number\",\n        \"std\": null,\n        \"min\": 68,\n        \"max\": 68,\n        \"num_unique_values\": 1,\n        \"samples\": [\n          68\n        ],\n        \"semantic_type\": \"\",\n        \"description\": \"\"\n      }\n    },\n    {\n      \"column\": \"severo_apgar5\",\n      \"properties\": {\n        \"dtype\": \"number\",\n        \"std\": null,\n        \"min\": 74,\n        \"max\": 74,\n        \"num_unique_values\": 1,\n        \"samples\": [\n          74\n        ],\n        \"semantic_type\": \"\",\n        \"description\": \"\"\n      }\n    }\n  ]\n}",
              "type": "dataframe",
              "variable_name": "notas"
            },
            "text/html": [
              "\n",
              "  <div id=\"df-535748d7-ce48-4c2f-ba3f-a3e59d5fc6fd\" class=\"colab-df-container\">\n",
              "    <div>\n",
              "<style scoped>\n",
              "    .dataframe tbody tr th:only-of-type {\n",
              "        vertical-align: middle;\n",
              "    }\n",
              "\n",
              "    .dataframe tbody tr th {\n",
              "        vertical-align: top;\n",
              "    }\n",
              "\n",
              "    .dataframe thead th {\n",
              "        text-align: right;\n",
              "    }\n",
              "</style>\n",
              "<table border=\"1\" class=\"dataframe\">\n",
              "  <thead>\n",
              "    <tr style=\"text-align: right;\">\n",
              "      <th></th>\n",
              "      <th>normal_apgar1</th>\n",
              "      <th>leve_apgar1</th>\n",
              "      <th>moderado_apgar1</th>\n",
              "      <th>severo_apgar1</th>\n",
              "      <th>normal_apgar5</th>\n",
              "      <th>leve_apgar5</th>\n",
              "      <th>moderado_apgar5</th>\n",
              "      <th>severo_apgar5</th>\n",
              "    </tr>\n",
              "  </thead>\n",
              "  <tbody>\n",
              "    <tr>\n",
              "      <th>0</th>\n",
              "      <td>23802</td>\n",
              "      <td>2523</td>\n",
              "      <td>376</td>\n",
              "      <td>231</td>\n",
              "      <td>26463</td>\n",
              "      <td>320</td>\n",
              "      <td>68</td>\n",
              "      <td>74</td>\n",
              "    </tr>\n",
              "  </tbody>\n",
              "</table>\n",
              "</div>\n",
              "    <div class=\"colab-df-buttons\">\n",
              "\n",
              "  <div class=\"colab-df-container\">\n",
              "    <button class=\"colab-df-convert\" onclick=\"convertToInteractive('df-535748d7-ce48-4c2f-ba3f-a3e59d5fc6fd')\"\n",
              "            title=\"Convert this dataframe to an interactive table.\"\n",
              "            style=\"display:none;\">\n",
              "\n",
              "  <svg xmlns=\"http://www.w3.org/2000/svg\" height=\"24px\" viewBox=\"0 -960 960 960\">\n",
              "    <path d=\"M120-120v-720h720v720H120Zm60-500h600v-160H180v160Zm220 220h160v-160H400v160Zm0 220h160v-160H400v160ZM180-400h160v-160H180v160Zm440 0h160v-160H620v160ZM180-180h160v-160H180v160Zm440 0h160v-160H620v160Z\"/>\n",
              "  </svg>\n",
              "    </button>\n",
              "\n",
              "  <style>\n",
              "    .colab-df-container {\n",
              "      display:flex;\n",
              "      gap: 12px;\n",
              "    }\n",
              "\n",
              "    .colab-df-convert {\n",
              "      background-color: #E8F0FE;\n",
              "      border: none;\n",
              "      border-radius: 50%;\n",
              "      cursor: pointer;\n",
              "      display: none;\n",
              "      fill: #1967D2;\n",
              "      height: 32px;\n",
              "      padding: 0 0 0 0;\n",
              "      width: 32px;\n",
              "    }\n",
              "\n",
              "    .colab-df-convert:hover {\n",
              "      background-color: #E2EBFA;\n",
              "      box-shadow: 0px 1px 2px rgba(60, 64, 67, 0.3), 0px 1px 3px 1px rgba(60, 64, 67, 0.15);\n",
              "      fill: #174EA6;\n",
              "    }\n",
              "\n",
              "    .colab-df-buttons div {\n",
              "      margin-bottom: 4px;\n",
              "    }\n",
              "\n",
              "    [theme=dark] .colab-df-convert {\n",
              "      background-color: #3B4455;\n",
              "      fill: #D2E3FC;\n",
              "    }\n",
              "\n",
              "    [theme=dark] .colab-df-convert:hover {\n",
              "      background-color: #434B5C;\n",
              "      box-shadow: 0px 1px 3px 1px rgba(0, 0, 0, 0.15);\n",
              "      filter: drop-shadow(0px 1px 2px rgba(0, 0, 0, 0.3));\n",
              "      fill: #FFFFFF;\n",
              "    }\n",
              "  </style>\n",
              "\n",
              "    <script>\n",
              "      const buttonEl =\n",
              "        document.querySelector('#df-535748d7-ce48-4c2f-ba3f-a3e59d5fc6fd button.colab-df-convert');\n",
              "      buttonEl.style.display =\n",
              "        google.colab.kernel.accessAllowed ? 'block' : 'none';\n",
              "\n",
              "      async function convertToInteractive(key) {\n",
              "        const element = document.querySelector('#df-535748d7-ce48-4c2f-ba3f-a3e59d5fc6fd');\n",
              "        const dataTable =\n",
              "          await google.colab.kernel.invokeFunction('convertToInteractive',\n",
              "                                                    [key], {});\n",
              "        if (!dataTable) return;\n",
              "\n",
              "        const docLinkHtml = 'Like what you see? Visit the ' +\n",
              "          '<a target=\"_blank\" href=https://colab.research.google.com/notebooks/data_table.ipynb>data table notebook</a>'\n",
              "          + ' to learn more about interactive tables.';\n",
              "        element.innerHTML = '';\n",
              "        dataTable['output_type'] = 'display_data';\n",
              "        await google.colab.output.renderOutput(dataTable, element);\n",
              "        const docLink = document.createElement('div');\n",
              "        docLink.innerHTML = docLinkHtml;\n",
              "        element.appendChild(docLink);\n",
              "      }\n",
              "    </script>\n",
              "  </div>\n",
              "\n",
              "    </div>\n",
              "  </div>\n"
            ],
            "text/plain": [
              "   normal_apgar1  leve_apgar1  moderado_apgar1  severo_apgar1  normal_apgar5  \\\n",
              "0          23802         2523              376            231          26463   \n",
              "\n",
              "   leve_apgar5  moderado_apgar5  severo_apgar5  \n",
              "0          320               68             74  "
            ]
          },
          "execution_count": 29,
          "metadata": {},
          "output_type": "execute_result"
        }
      ],
      "source": [
        "notas = sqldf('''SELECT\n",
        "    COUNT(CASE WHEN apgar1 BETWEEN 8 AND 10 THEN 1 END) AS normal_apgar1,\n",
        "    COUNT(CASE WHEN apgar1 BETWEEN 6 AND 7 THEN 1 END) AS leve_apgar1,\n",
        "    COUNT(CASE WHEN apgar1 BETWEEN 4 AND 5 THEN 1 END) AS moderado_apgar1,\n",
        "    COUNT(CASE WHEN apgar1 BETWEEN 0 AND 3 THEN 1 END) AS severo_apgar1,\n",
        "    COUNT(CASE WHEN apgar5 BETWEEN 8 AND 10 THEN 1 END) AS normal_apgar5,\n",
        "    COUNT(CASE WHEN apgar5 BETWEEN 6 AND 7 THEN 1 END) AS leve_apgar5,\n",
        "    COUNT(CASE WHEN apgar5 BETWEEN 4 AND 5 THEN 1 END) AS moderado_apgar5,\n",
        "    COUNT(CASE WHEN apgar5 BETWEEN 0 AND 3 THEN 1 END) AS severo_apgar5\n",
        "FROM\n",
        "df\n",
        "''')\n",
        "notas"
      ]
    },
    {
      "cell_type": "markdown",
      "metadata": {
        "id": "w9uWd9qmlvpm"
      },
      "source": [
        "## Renomeando as variáveis para que fiquem no snake case, ou seja, em letras minúsculas, com um underscore entre as palávras"
      ]
    },
    {
      "cell_type": "code",
      "execution_count": 35,
      "metadata": {
        "id": "IwrZbD2Ulx8K"
      },
      "outputs": [],
      "source": [
        "df_selecionado.rename(columns={\n",
        "    'LOCNASC': 'local_nasc',\n",
        "    'IDADEMAE': 'idade_mae',\n",
        "    'ESTCIVMAE': 'est_civ_mae',\n",
        "    'ESCMAE': 'esc_mae',\n",
        "    'QTDFILVIVO': 'qtd_fil_vivo',\n",
        "    'GESTACAO': 'gestacao',\n",
        "    'GRAVIDEZ': 'gravidez',\n",
        "    'CONSULTAS': 'consultas',\n",
        "    'APGAR5': 'apgar5'\n",
        "}, inplace =  True)"
      ]
    }
  ],
  "metadata": {
    "colab": {
      "provenance": []
    },
    "kernelspec": {
      "display_name": "Python 3",
      "language": "python",
      "name": "python3"
    },
    "language_info": {
      "codemirror_mode": {
        "name": "ipython",
        "version": 3
      },
      "file_extension": ".py",
      "mimetype": "text/x-python",
      "name": "python",
      "nbconvert_exporter": "python",
      "pygments_lexer": "ipython3",
      "version": "3.8.5"
    }
  },
  "nbformat": 4,
  "nbformat_minor": 0
}
